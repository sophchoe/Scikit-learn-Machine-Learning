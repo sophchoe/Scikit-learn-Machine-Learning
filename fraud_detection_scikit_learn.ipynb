{
 "cells": [
  {
   "cell_type": "markdown",
   "id": "236c80d3",
   "metadata": {},
   "source": [
    "# Scikit-learn Project\n"
   ]
  },
  {
   "cell_type": "code",
   "execution_count": 20,
   "id": "6a7c1b2d",
   "metadata": {},
   "outputs": [],
   "source": [
    "from sklearn.model_selection import train_test_split\n",
    "from sklearn.datasets import load_wine\n",
    "from sklearn.metrics import confusion_matrix\n",
    "from sklearn.metrics import plot_confusion_matrix\n",
    "\n",
    "import matplotlib.pyplot as plt\n",
    "import pandas as pd\n",
    "import numpy as np"
   ]
  },
  {
   "cell_type": "markdown",
   "id": "b2b5e77e",
   "metadata": {},
   "source": [
    "The original dataset for credit card fraudulent transactions is truncated to 10 features and 1968 sample."
   ]
  },
  {
   "cell_type": "code",
   "execution_count": 23,
   "id": "38680825",
   "metadata": {},
   "outputs": [],
   "source": [
    "data = pd.read_csv('ccfraud_10_features_1968.csv')"
   ]
  },
  {
   "cell_type": "markdown",
   "id": "f91ea92b",
   "metadata": {},
   "source": [
    "The data in the form of Pandas dataframe is shuffled, divided into train features, train labels, test features, and test labels."
   ]
  },
  {
   "cell_type": "code",
   "execution_count": 24,
   "id": "9223bbee",
   "metadata": {},
   "outputs": [],
   "source": [
    "def data_prep(data_frame):\n",
    "    \n",
    "    if len(data_frame.columns) == 12:\n",
    "        data = data_frame.iloc[:, 1:]   # weird glitch with additional column. Drop the first column\n",
    "    shuffled = data.sample(frac=1)      # shuffle data\n",
    "    features = shuffled.iloc[:, :-1]    # select only the features by dropping the last column\n",
    "    labels = shuffled.iloc[:, -1]       # select only the labels by selecting the last column\n",
    "    \n",
    "    # convert data to numpy array to use train and test split using scikitlearn\n",
    "    features_np = features.to_numpy(dtype=np.float32)\n",
    "    labels_np = labels.to_numpy(dtype=np.int32)\n",
    "    \n",
    "    # split data into train and test, features and labels\n",
    "    X_train, X_test, y_train, y_test = train_test_split(features_np, labels_np, test_size=0.2, random_state=42)\n",
    "        \n",
    "    return X_train, y_train, X_test, y_test\n",
    "\n",
    "X_train, y_train, X_test, y_test = data_prep(data)"
   ]
  },
  {
   "cell_type": "code",
   "execution_count": 4,
   "id": "a413926a",
   "metadata": {},
   "outputs": [],
   "source": [
    "# Now we are ready to apply machine learning algorithms.\n",
    "\n",
    "from sklearn.neural_network import MLPClassifier\n",
    "from sklearn.neighbors import KNeighborsClassifier\n",
    "from sklearn.svm import SVC\n",
    "from sklearn.gaussian_process import GaussianProcessClassifier\n",
    "from sklearn.gaussian_process.kernels import RBF\n",
    "from sklearn.tree import DecisionTreeClassifier\n",
    "from sklearn.ensemble import RandomForestClassifier, AdaBoostClassifier\n",
    "from sklearn.naive_bayes import GaussianNB\n",
    "from sklearn.discriminant_analysis import QuadraticDiscriminantAnalysis\n",
    "\n",
    "import matplotlib.pyplot as plt\n",
    "\n",
    "from sklearn import svm, metrics"
   ]
  },
  {
   "cell_type": "markdown",
   "id": "3264ec2f",
   "metadata": {},
   "source": [
    "The above classifiers from Scikit-learn are used and GaussianProcessClassifier performed the best."
   ]
  },
  {
   "cell_type": "code",
   "execution_count": 6,
   "id": "a170303c",
   "metadata": {},
   "outputs": [
    {
     "name": "stdout",
     "output_type": "stream",
     "text": [
      "Classification report for classifier SVC(gamma=0.5):\n",
      "              precision    recall  f1-score   support\n",
      "\n",
      "           0       0.90      0.99      0.94       301\n",
      "           1       0.97      0.63      0.77        93\n",
      "\n",
      "    accuracy                           0.91       394\n",
      "   macro avg       0.93      0.81      0.85       394\n",
      "weighted avg       0.91      0.91      0.90       394\n",
      "\n",
      "\n"
     ]
    }
   ],
   "source": [
    "clf = SVC(gamma=0.5)\n",
    "clf.fit(X_train, y_train)\n",
    "predicted = clf.predict(X_test)\n",
    "\n",
    "print(\n",
    "    f\"Classification report for classifier {clf}:\\n\"\n",
    "    f\"{metrics.classification_report(y_test, predicted)}\\n\"\n",
    ")"
   ]
  },
  {
   "cell_type": "code",
   "execution_count": 9,
   "id": "add38474",
   "metadata": {},
   "outputs": [
    {
     "name": "stdout",
     "output_type": "stream",
     "text": [
      "Classification report for classifier KNeighborsClassifier(n_neighbors=3):\n",
      "              precision    recall  f1-score   support\n",
      "\n",
      "           0       0.96      0.99      0.97       301\n",
      "           1       0.95      0.87      0.91        93\n",
      "\n",
      "    accuracy                           0.96       394\n",
      "   macro avg       0.96      0.93      0.94       394\n",
      "weighted avg       0.96      0.96      0.96       394\n",
      "\n",
      "\n"
     ]
    }
   ],
   "source": [
    "k_clf = KNeighborsClassifier(3)\n",
    "k_clf.fit(X_train, y_train)\n",
    "predicted = k_clf.predict(X_test)\n",
    "\n",
    "print(\n",
    "    f\"Classification report for classifier {k_clf}:\\n\"\n",
    "    f\"{metrics.classification_report(y_test, predicted)}\\n\"\n",
    ")"
   ]
  },
  {
   "cell_type": "code",
   "execution_count": 10,
   "id": "cbdf8ef3",
   "metadata": {},
   "outputs": [
    {
     "name": "stdout",
     "output_type": "stream",
     "text": [
      "Classification report for classifier SVC(C=1, gamma=2):\n",
      "              precision    recall  f1-score   support\n",
      "\n",
      "           0       0.79      1.00      0.88       301\n",
      "           1       0.92      0.12      0.21        93\n",
      "\n",
      "    accuracy                           0.79       394\n",
      "   macro avg       0.85      0.56      0.54       394\n",
      "weighted avg       0.82      0.79      0.72       394\n",
      "\n",
      "\n"
     ]
    }
   ],
   "source": [
    "s_clf = SVC(gamma=2, C=1)\n",
    "s_clf.fit(X_train, y_train)\n",
    "predicted = s_clf.predict(X_test)\n",
    "\n",
    "print(\n",
    "    f\"Classification report for classifier {s_clf}:\\n\"\n",
    "    f\"{metrics.classification_report(y_test, predicted)}\\n\"\n",
    ")"
   ]
  },
  {
   "cell_type": "code",
   "execution_count": 21,
   "id": "b1038b69",
   "metadata": {},
   "outputs": [
    {
     "name": "stdout",
     "output_type": "stream",
     "text": [
      "Classification report for classifier GaussianProcessClassifier(kernel=1**2 * RBF(length_scale=1)):\n",
      "              precision    recall  f1-score   support\n",
      "\n",
      "           0       0.98      0.99      0.98       301\n",
      "           1       0.97      0.92      0.95        93\n",
      "\n",
      "    accuracy                           0.97       394\n",
      "   macro avg       0.97      0.96      0.96       394\n",
      "weighted avg       0.97      0.97      0.97       394\n",
      "\n",
      "\n"
     ]
    }
   ],
   "source": [
    "g_clf = GaussianProcessClassifier(1.0 * RBF(1.0))\n",
    "g_clf.fit(X_train, y_train)\n",
    "predicted = g_clf.predict(X_test)\n",
    "\n",
    "print(\n",
    "    f\"Classification report for classifier {g_clf}:\\n\"\n",
    "    f\"{metrics.classification_report(y_test, predicted)}\\n\"\n",
    ")"
   ]
  },
  {
   "cell_type": "markdown",
   "id": "68393d41",
   "metadata": {},
   "source": [
    "The confusion matrix captures true positive, true negative, false positive, and false negative. Here we have seven false negative and three false positive."
   ]
  },
  {
   "cell_type": "code",
   "execution_count": 25,
   "id": "cd55d7c4",
   "metadata": {},
   "outputs": [
    {
     "data": {
      "image/png": "[encoded data removed]",
      "text/plain": [
       "<Figure size 640x480 with 2 Axes>"
      ]
     },
     "metadata": {},
     "output_type": "display_data"
    }
   ],
   "source": [
    "plot_confusion_matrix(g_clf, X_test, y_test) \n",
    "plt.show()"
   ]
  },
  {
   "cell_type": "code",
   "execution_count": 12,
   "id": "ac5f69db",
   "metadata": {},
   "outputs": [
    {
     "name": "stdout",
     "output_type": "stream",
     "text": [
      "Classification report for classifier DecisionTreeClassifier(max_depth=5):\n",
      "              precision    recall  f1-score   support\n",
      "\n",
      "           0       0.97      0.98      0.98       301\n",
      "           1       0.94      0.89      0.92        93\n",
      "\n",
      "    accuracy                           0.96       394\n",
      "   macro avg       0.96      0.94      0.95       394\n",
      "weighted avg       0.96      0.96      0.96       394\n",
      "\n",
      "\n"
     ]
    }
   ],
   "source": [
    "d_clf = DecisionTreeClassifier(max_depth=5)\n",
    "d_clf.fit(X_train, y_train)\n",
    "predicted = d_clf.predict(X_test)\n",
    "\n",
    "print(\n",
    "    f\"Classification report for classifier {d_clf}:\\n\"\n",
    "    f\"{metrics.classification_report(y_test, predicted)}\\n\"\n",
    ")"
   ]
  },
  {
   "cell_type": "code",
   "execution_count": 13,
   "id": "5afea618",
   "metadata": {},
   "outputs": [
    {
     "name": "stdout",
     "output_type": "stream",
     "text": [
      "Classification report for classifier RandomForestClassifier(max_depth=5, max_features=1, n_estimators=10):\n",
      "              precision    recall  f1-score   support\n",
      "\n",
      "           0       0.95      0.99      0.97       301\n",
      "           1       0.95      0.85      0.90        93\n",
      "\n",
      "    accuracy                           0.95       394\n",
      "   macro avg       0.95      0.92      0.93       394\n",
      "weighted avg       0.95      0.95      0.95       394\n",
      "\n",
      "\n"
     ]
    }
   ],
   "source": [
    "r_clf = RandomForestClassifier(max_depth=5, n_estimators=10, max_features=1)\n",
    "r_clf.fit(X_train, y_train)\n",
    "predicted = r_clf.predict(X_test)\n",
    "\n",
    "print(\n",
    "    f\"Classification report for classifier {r_clf}:\\n\"\n",
    "    f\"{metrics.classification_report(y_test, predicted)}\\n\"\n",
    ")"
   ]
  },
  {
   "cell_type": "code",
   "execution_count": 14,
   "id": "f53fa5ef",
   "metadata": {},
   "outputs": [
    {
     "name": "stdout",
     "output_type": "stream",
     "text": [
      "Classification report for classifier MLPClassifier(alpha=1, max_iter=1000):\n",
      "              precision    recall  f1-score   support\n",
      "\n",
      "           0       0.97      0.99      0.98       301\n",
      "           1       0.95      0.90      0.93        93\n",
      "\n",
      "    accuracy                           0.97       394\n",
      "   macro avg       0.96      0.94      0.95       394\n",
      "weighted avg       0.97      0.97      0.97       394\n",
      "\n",
      "\n"
     ]
    }
   ],
   "source": [
    "m_clf = MLPClassifier(alpha=1, max_iter=1000)\n",
    "m_clf.fit(X_train, y_train)\n",
    "predicted = m_clf.predict(X_test)\n",
    "\n",
    "print(\n",
    "    f\"Classification report for classifier {m_clf}:\\n\"\n",
    "    f\"{metrics.classification_report(y_test, predicted)}\\n\"\n",
    ")"
   ]
  },
  {
   "cell_type": "code",
   "execution_count": 16,
   "id": "c214e172",
   "metadata": {},
   "outputs": [
    {
     "name": "stdout",
     "output_type": "stream",
     "text": [
      "Classification report for classifier AdaBoostClassifier():\n",
      "              precision    recall  f1-score   support\n",
      "\n",
      "           0       0.98      0.98      0.98       301\n",
      "           1       0.95      0.92      0.93        93\n",
      "\n",
      "    accuracy                           0.97       394\n",
      "   macro avg       0.96      0.95      0.96       394\n",
      "weighted avg       0.97      0.97      0.97       394\n",
      "\n",
      "\n"
     ]
    }
   ],
   "source": [
    "a_clf = AdaBoostClassifier()\n",
    "a_clf.fit(X_train, y_train)\n",
    "predicted = a_clf.predict(X_test)\n",
    "\n",
    "print(\n",
    "    f\"Classification report for classifier {a_clf}:\\n\"\n",
    "    f\"{metrics.classification_report(y_test, predicted)}\\n\"\n",
    ")"
   ]
  },
  {
   "cell_type": "code",
   "execution_count": 17,
   "id": "397f31a0",
   "metadata": {},
   "outputs": [
    {
     "name": "stdout",
     "output_type": "stream",
     "text": [
      "Classification report for classifier GaussianNB():\n",
      "              precision    recall  f1-score   support\n",
      "\n",
      "           0       0.94      0.98      0.96       301\n",
      "           1       0.91      0.78      0.84        93\n",
      "\n",
      "    accuracy                           0.93       394\n",
      "   macro avg       0.92      0.88      0.90       394\n",
      "weighted avg       0.93      0.93      0.93       394\n",
      "\n",
      "\n"
     ]
    }
   ],
   "source": [
    "b_clf = GaussianNB()\n",
    "b_clf.fit(X_train, y_train)\n",
    "predicted = b_clf.predict(X_test)\n",
    "\n",
    "print(\n",
    "    f\"Classification report for classifier {b_clf}:\\n\"\n",
    "    f\"{metrics.classification_report(y_test, predicted)}\\n\"\n",
    ")"
   ]
  },
  {
   "cell_type": "code",
   "execution_count": 18,
   "id": "da488a63",
   "metadata": {},
   "outputs": [
    {
     "name": "stdout",
     "output_type": "stream",
     "text": [
      "Classification report for classifier QuadraticDiscriminantAnalysis():\n",
      "              precision    recall  f1-score   support\n",
      "\n",
      "           0       0.96      0.96      0.96       301\n",
      "           1       0.88      0.86      0.87        93\n",
      "\n",
      "    accuracy                           0.94       394\n",
      "   macro avg       0.92      0.91      0.91       394\n",
      "weighted avg       0.94      0.94      0.94       394\n",
      "\n",
      "\n"
     ]
    }
   ],
   "source": [
    "q_clf = QuadraticDiscriminantAnalysis()\n",
    "q_clf.fit(X_train, y_train)\n",
    "predicted = q_clf.predict(X_test)\n",
    "\n",
    "print(\n",
    "    f\"Classification report for classifier {q_clf}:\\n\"\n",
    "    f\"{metrics.classification_report(y_test, predicted)}\\n\"\n",
    ")"
   ]
  }
 ],
 "metadata": {
  "kernelspec": {
   "display_name": "Python 3",
   "language": "python",
   "name": "python3"
  },
  "language_info": {
   "codemirror_mode": {
    "name": "ipython",
    "version": 3
   },
   "file_extension": ".py",
   "mimetype": "text/x-python",
   "name": "python",
   "nbconvert_exporter": "python",
   "pygments_lexer": "ipython3",
   "version": "3.8.5"
  }
 },
 "nbformat": 4,
 "nbformat_minor": 5
}
